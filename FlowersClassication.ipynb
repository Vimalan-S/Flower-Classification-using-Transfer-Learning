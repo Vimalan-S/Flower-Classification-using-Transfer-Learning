{
 "cells": [
  {
   "cell_type": "markdown",
   "metadata": {},
   "source": [
    "IMPORTING NECESSARY PACKAGES"
   ]
  },
  {
   "cell_type": "code",
   "execution_count": 3,
   "metadata": {},
   "outputs": [],
   "source": [
    "import os\n",
    "import cv2 as cv\n",
    "import numpy as np\n",
    "import matplotlib.pyplot as plt"
   ]
  },
  {
   "cell_type": "markdown",
   "metadata": {},
   "source": [
    "NAMING OUR TARGET CLASSES"
   ]
  },
  {
   "cell_type": "code",
   "execution_count": 4,
   "metadata": {},
   "outputs": [],
   "source": [
    "classes = [\"DAISY\", \"DANDELION\", \"ROSE\", \"SUNFLOWER\", \"TULIP\"]\n",
    "Datadirectory = \"flowers/\""
   ]
  },
  {
   "cell_type": "markdown",
   "metadata": {},
   "source": [
    "TRAINING THE DATA FOR TARGET CLASSES OF EACH FLOWER "
   ]
  },
  {
   "cell_type": "code",
   "execution_count": 5,
   "metadata": {},
   "outputs": [],
   "source": [
    "training_Data = [] \n",
    "\n",
    "def create_training_Data():\n",
    "    for varieties in classes:\n",
    "        path = os.path.join(Datadirectory, varieties) \n",
    "\n",
    "        # SETTING THE INDEX VALUE OF EACH VARIETY AS THEIR CORREPO\n",
    "        label = classes.index(varieties) \n",
    "\n",
    "        for img in os.listdir(path):\n",
    "            try:\n",
    "                img_array = cv.imread(os.path.join(path, img))\n",
    "\n",
    "                # RESIZING THE IMAGE TO 224 X 224 AS THE PRE-TRAINED MODEL FROM TENSORFLOW HUB WAS TRAINED WITH THE SAME SIZE\n",
    "                new_array = cv.resize(img_array, (224, 224))\n",
    "                training_Data.append([new_array, label])\n",
    "\n",
    "            except Exception as e: \n",
    "                pass"
   ]
  },
  {
   "cell_type": "code",
   "execution_count": 6,
   "metadata": {},
   "outputs": [],
   "source": [
    "# CALLING THE FUNCTION TO CREATE OUR TRIANING DATA\n",
    "create_training_Data()"
   ]
  },
  {
   "cell_type": "code",
   "execution_count": 7,
   "metadata": {},
   "outputs": [
    {
     "name": "stdout",
     "output_type": "stream",
     "text": [
      "4317\n"
     ]
    }
   ],
   "source": [
    "# TOTAL SIZE OF TRAINING DATA\n",
    "print(len(training_Data))"
   ]
  },
  {
   "cell_type": "markdown",
   "metadata": {},
   "source": [
    "SHUFFLING THE TRAINING DATA SO AS TO PREVENT THE MACHINE FROM SEQUENTIAL LEARNING"
   ]
  },
  {
   "cell_type": "code",
   "execution_count": 8,
   "metadata": {},
   "outputs": [],
   "source": [
    "import random\n",
    "random.shuffle(training_Data)"
   ]
  },
  {
   "cell_type": "markdown",
   "metadata": {},
   "source": [
    "ADDING FEATURES AND CORRESPONDING CLASS LABLES IN TWO LISTS"
   ]
  },
  {
   "cell_type": "code",
   "execution_count": 9,
   "metadata": {},
   "outputs": [],
   "source": [
    "X = []\n",
    "y = []\n",
    "\n",
    "for features, label in training_Data:\n",
    "    X.append(features) \n",
    "    y.append(label)"
   ]
  },
  {
   "cell_type": "code",
   "execution_count": 10,
   "metadata": {},
   "outputs": [],
   "source": [
    "X = np.array(X)\n",
    "y = np.array(y)"
   ]
  },
  {
   "cell_type": "markdown",
   "metadata": {},
   "source": [
    "TRAIN TEST SPLIT"
   ]
  },
  {
   "cell_type": "code",
   "execution_count": 11,
   "metadata": {},
   "outputs": [],
   "source": [
    "from sklearn.model_selection import train_test_split\n",
    "X_train, X_test, y_train, y_test = train_test_split(X, y, random_state=0)"
   ]
  },
  {
   "cell_type": "markdown",
   "metadata": {},
   "source": [
    "SCALING OUR DATA "
   ]
  },
  {
   "cell_type": "code",
   "execution_count": 12,
   "metadata": {},
   "outputs": [],
   "source": [
    "X_train_scaled = X_train / 255\n",
    "X_test_scaled = X_test / 255"
   ]
  },
  {
   "cell_type": "markdown",
   "metadata": {},
   "source": [
    "TRANSFER LEARNING..."
   ]
  },
  {
   "cell_type": "code",
   "execution_count": 13,
   "metadata": {},
   "outputs": [],
   "source": [
    "import tensorflow as tf\n",
    "import tensorflow_hub as hub\n",
    "\n",
    "from tensorflow import keras\n",
    "from tensorflow.keras import layers\n",
    "from tensorflow.keras.models import Sequential"
   ]
  },
  {
   "cell_type": "markdown",
   "metadata": {},
   "source": [
    "USING PRE-TRAINED DATA FROM TENSORFLOW HUB"
   ]
  },
  {
   "cell_type": "code",
   "execution_count": 14,
   "metadata": {},
   "outputs": [],
   "source": [
    "feature_extractor_model = \"https://tfhub.dev/google/tf2-preview/mobilenet_v2/feature_vector/4\"\n",
    "\n",
    "pretrained_model_without_top_layer = hub.KerasLayer(feature_extractor_model, input_shape=(224, 224, 3), trainable=False) # HERE trainable=False BECAUSE WE ARE FREEZING ALREADY TRAINED WEIGHTS OF THE MODEL"
   ]
  },
  {
   "cell_type": "code",
   "execution_count": 15,
   "metadata": {},
   "outputs": [],
   "source": [
    "model = tf.keras.Sequential([pretrained_model_without_top_layer, tf.keras.layers.Dense(250)])"
   ]
  },
  {
   "cell_type": "code",
   "execution_count": 16,
   "metadata": {},
   "outputs": [
    {
     "name": "stdout",
     "output_type": "stream",
     "text": [
      "Model: \"sequential\"\n",
      "_________________________________________________________________\n",
      " Layer (type)                Output Shape              Param #   \n",
      "=================================================================\n",
      " keras_layer (KerasLayer)    (None, 1280)              2257984   \n",
      "                                                                 \n",
      " dense (Dense)               (None, 250)               320250    \n",
      "                                                                 \n",
      "=================================================================\n",
      "Total params: 2,578,234\n",
      "Trainable params: 320,250\n",
      "Non-trainable params: 2,257,984\n",
      "_________________________________________________________________\n"
     ]
    }
   ],
   "source": [
    "model.summary()"
   ]
  },
  {
   "cell_type": "code",
   "execution_count": 17,
   "metadata": {},
   "outputs": [],
   "source": [
    "base_input = model.layers[0].input\n",
    "base_output = model.layers[-1].output"
   ]
  },
  {
   "cell_type": "code",
   "execution_count": 18,
   "metadata": {},
   "outputs": [
    {
     "data": {
      "text/plain": [
       "<KerasTensor: shape=(None, 250) dtype=float32 (created by layer 'dense')>"
      ]
     },
     "execution_count": 18,
     "metadata": {},
     "output_type": "execute_result"
    }
   ],
   "source": [
    "base_output"
   ]
  },
  {
   "cell_type": "markdown",
   "metadata": {},
   "source": [
    "RE-TRAINING THE PRE-TRAINED MODEL TO PRODUCE 5 CLASS LABLES AT THE LAST LAYER"
   ]
  },
  {
   "cell_type": "code",
   "execution_count": 19,
   "metadata": {},
   "outputs": [
    {
     "data": {
      "text/plain": [
       "<KerasTensor: shape=(None, 5) dtype=float32 (created by layer 'dense_3')>"
      ]
     },
     "execution_count": 19,
     "metadata": {},
     "output_type": "execute_result"
    }
   ],
   "source": [
    "final_output = layers.Dense(128, activation = 'relu')(base_output) ## adding (final_output).\n",
    "\n",
    "final_output = layers.Dense(64, activation = 'relu')(final_output)\n",
    "\n",
    "final_output = layers.Dense(5, activation='softmax')(final_output)  # 5 NEURONS IN FINAL LAYER BECAUSE 5 TARGET CLASSES IN OUR TRAINING DATA \n",
    "final_output"
   ]
  },
  {
   "cell_type": "code",
   "execution_count": 20,
   "metadata": {},
   "outputs": [
    {
     "name": "stdout",
     "output_type": "stream",
     "text": [
      "Model: \"model\"\n",
      "_________________________________________________________________\n",
      " Layer (type)                Output Shape              Param #   \n",
      "=================================================================\n",
      " keras_layer_input (InputLay  [(None, 224, 224, 3)]    0         \n",
      " er)                                                             \n",
      "                                                                 \n",
      " keras_layer (KerasLayer)    (None, 1280)              2257984   \n",
      "                                                                 \n",
      " dense (Dense)               (None, 250)               320250    \n",
      "                                                                 \n",
      " dense_1 (Dense)             (None, 128)               32128     \n",
      "                                                                 \n",
      " dense_2 (Dense)             (None, 64)                8256      \n",
      "                                                                 \n",
      " dense_3 (Dense)             (None, 5)                 325       \n",
      "                                                                 \n",
      "=================================================================\n",
      "Total params: 2,618,943\n",
      "Trainable params: 360,959\n",
      "Non-trainable params: 2,257,984\n",
      "_________________________________________________________________\n"
     ]
    }
   ],
   "source": [
    "new_model = keras.Model(inputs = base_input, outputs = final_output)\n",
    "new_model.summary()"
   ]
  },
  {
   "cell_type": "code",
   "execution_count": 21,
   "metadata": {},
   "outputs": [],
   "source": [
    "new_model.compile(loss = \"sparse_categorical_crossentropy\", optimizer = \"adam\", metrics = [\"accuracy\"])"
   ]
  },
  {
   "cell_type": "code",
   "execution_count": 22,
   "metadata": {},
   "outputs": [
    {
     "name": "stdout",
     "output_type": "stream",
     "text": [
      "Epoch 1/5\n",
      "102/102 [==============================] - 65s 585ms/step - loss: 0.5732 - accuracy: 0.7831\n",
      "Epoch 2/5\n",
      "102/102 [==============================] - 54s 532ms/step - loss: 0.2968 - accuracy: 0.8928\n",
      "Epoch 3/5\n",
      "102/102 [==============================] - 53s 524ms/step - loss: 0.2003 - accuracy: 0.9293\n",
      "Epoch 4/5\n",
      "102/102 [==============================] - 55s 535ms/step - loss: 0.1434 - accuracy: 0.9459\n",
      "Epoch 5/5\n",
      "102/102 [==============================] - 54s 533ms/step - loss: 0.0901 - accuracy: 0.9682\n"
     ]
    },
    {
     "data": {
      "text/plain": [
       "<keras.callbacks.History at 0x1527520eec0>"
      ]
     },
     "execution_count": 22,
     "metadata": {},
     "output_type": "execute_result"
    }
   ],
   "source": [
    "new_model.fit(X_train_scaled, y_train, epochs=5)"
   ]
  },
  {
   "cell_type": "markdown",
   "metadata": {},
   "source": [
    "EVALUATING THE NEWLY TRAINED MODEL WITH TEST IMAGES"
   ]
  },
  {
   "cell_type": "code",
   "execution_count": 23,
   "metadata": {},
   "outputs": [
    {
     "name": "stdout",
     "output_type": "stream",
     "text": [
      "34/34 [==============================] - 20s 535ms/step - loss: 0.4538 - accuracy: 0.8787\n"
     ]
    },
    {
     "data": {
      "text/plain": [
       "[0.4537661373615265, 0.8787037134170532]"
      ]
     },
     "execution_count": 23,
     "metadata": {},
     "output_type": "execute_result"
    }
   ],
   "source": [
    "new_model.evaluate(X_test_scaled,y_test)"
   ]
  },
  {
   "cell_type": "markdown",
   "metadata": {},
   "source": [
    "SAVING OUR RE-TRAINED MODEL"
   ]
  },
  {
   "cell_type": "code",
   "execution_count": 24,
   "metadata": {},
   "outputs": [],
   "source": [
    "new_model.save(\"ReTrainedModel.h5\")"
   ]
  },
  {
   "cell_type": "markdown",
   "metadata": {},
   "source": [
    "LOADING AND PERFORMING PREDICTIONS FROM OUR RE-TRAINED MODEL"
   ]
  },
  {
   "cell_type": "code",
   "execution_count": 26,
   "metadata": {},
   "outputs": [],
   "source": [
    "new_model = tf.keras.models.load_model((\"ReTrainedModel.h5\"), custom_objects = {'KerasLayer' : hub.KerasLayer})"
   ]
  },
  {
   "cell_type": "markdown",
   "metadata": {},
   "source": [
    "MANUALLY CHECKING THE PREDICTION DONE BY OUR MODEL"
   ]
  },
  {
   "cell_type": "code",
   "execution_count": 35,
   "metadata": {},
   "outputs": [],
   "source": [
    "test_image = cv.imread(\"test_image.jpg\")"
   ]
  },
  {
   "cell_type": "code",
   "execution_count": null,
   "metadata": {},
   "outputs": [],
   "source": [
    "# CONVERTING BGR TO RGB CHANNEL TO VIEW OUR TEST IMAGE\n",
    "plt.imshow(cv.cvtColor(test_image, cv.COLOR_BGR2RGB))"
   ]
  },
  {
   "cell_type": "markdown",
   "metadata": {},
   "source": [
    "RESIZING AND SCALING OUR TEST IMAGE "
   ]
  },
  {
   "cell_type": "code",
   "execution_count": 37,
   "metadata": {},
   "outputs": [],
   "source": [
    "# RESIZING TO 224X224\n",
    "final_image = cv.resize(test_image, (224,224))\n",
    "\n",
    "# TURNING OUR IMAGE FROM 3D FORMAT(224, 224, 3) TO 4D FORMAT(1, 224, 224, 3) AS KERAS LAYERS ACCEPT 4-DIMENSIONS\n",
    "final_image = np.expand_dims(final_image, axis=0) \n",
    "\n",
    "# STANDARDIZATION\n",
    "final_image = final_image / 255.0"
   ]
  },
  {
   "cell_type": "markdown",
   "metadata": {},
   "source": [
    "MANUAL PREDICTION USING TEST IMAGE ON OUR NEWLY TRAINED MODEL"
   ]
  },
  {
   "cell_type": "code",
   "execution_count": null,
   "metadata": {},
   "outputs": [],
   "source": [
    "Predictions = new_model.predict(final_image)\n",
    "\n",
    "print(\"The Picture is of a\", classes[np.argmax(Predictions)])"
   ]
  }
 ],
 "metadata": {
  "kernelspec": {
   "display_name": "Python 3.10.1 64-bit",
   "language": "python",
   "name": "python3"
  },
  "language_info": {
   "codemirror_mode": {
    "name": "ipython",
    "version": 3
   },
   "file_extension": ".py",
   "mimetype": "text/x-python",
   "name": "python",
   "nbconvert_exporter": "python",
   "pygments_lexer": "ipython3",
   "version": "3.10.1"
  },
  "orig_nbformat": 4,
  "vscode": {
   "interpreter": {
    "hash": "270f40dea5d1f5a229a1866a00a7f1d145fb5d24523a0eb20cef7127b3753f29"
   }
  }
 },
 "nbformat": 4,
 "nbformat_minor": 2
}
